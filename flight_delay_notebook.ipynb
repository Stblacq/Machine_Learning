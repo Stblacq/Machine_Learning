{
 "cells": [
  {
   "cell_type": "code",
   "execution_count": 1,
   "id": "95240829",
   "metadata": {},
   "outputs": [],
   "source": [
    "import math\n",
    "\n",
    "import numpy as np\n",
    "from matplotlib.pyplot import plot, show, xlabel, ylabel, suptitle\n",
    "from pandas import DataFrame, read_csv, to_datetime, concat\n",
    "from sklearn.metrics import r2_score, mean_poisson_deviance, mean_squared_error, mean_absolute_error\n",
    "from sklearn.neighbors import LocalOutlierFactor\n",
    "from sklearn.preprocessing import LabelEncoder\n",
    "from sklearn.model_selection import GridSearchCV\n",
    "\n",
    "\n",
    "class FlightDelayPredictor:\n",
    "    \"\"\"\n",
    "     A b regression prediction class\n",
    "     contains the blue print of a prediction class\n",
    "     \"\"\"\n",
    "    date_time_fields = ['Scheduled depature time', 'Scheduled arrival time']\n",
    "    categorical_variables = ['Depature Airport', 'Destination Airport']\n",
    "\n",
    "    def __init__(self, path_to_dataset_csv):\n",
    "        \"\"\"\n",
    "        Initialises dataset from dataset from data frame\n",
    "        Uses the last column as Y and the others as X\n",
    "        and calls the split function from subclass if defined\n",
    "        :param path_to_dataset_csv:\n",
    "        \"\"\"\n",
    "        self.dataset: DataFrame = read_csv(path_to_dataset_csv)\n",
    "        self.X = self.dataset.iloc[:, :-1]\n",
    "        self.Y = self.dataset.iloc[:, -1]\n",
    "        self.pre_process_data()\n",
    "        self.X_train, self.X_test, self.Y_train, self.Y_test = self.split_dataset()\n",
    "\n",
    "    def pre_process_data(self):\n",
    "        \"\"\"\n",
    "        performs pre-processing on the data set namely\n",
    "        1.Extract more features from timestamp,->year, month, day, day_of_week\n",
    "        2. Label encode categorical features\n",
    "        3. Add feature flight duration\n",
    "        4. handle missing data\n",
    "        :return:\n",
    "        \"\"\"\n",
    "        self.declare_datetime_fields()\n",
    "        self.add_flight_duration_column()\n",
    "        self.expand_datetime_fields()\n",
    "        self.label_encode_categorical_variables()\n",
    "        self.handle_missing_values()\n",
    "\n",
    "    def remove_outliers(self):\n",
    "        lof = LocalOutlierFactor(n_neighbors=10)\n",
    "        outlier_prediction = lof.fit_predict(self.X_train)\n",
    "        X_Y_train = concat([self.X_train, self.Y_train], axis=1)\n",
    "        X_Y_train['outlier_prediction'] = outlier_prediction\n",
    "        inliers = X_Y_train.query('outlier_prediction == 1').copy(deep=False)\n",
    "        inliers.drop('outlier_prediction', inplace=True, axis=1)\n",
    "        self.X_train, self.Y_train = inliers.iloc[:, :-1], inliers.iloc[:, -1]\n",
    "\n",
    "    def handle_missing_values(self, ):\n",
    "        self.X = self.X.interpolate(method='ffill', limit_direction='forward')\n",
    "\n",
    "    def label_encode_categorical_variables(self):\n",
    "        label_encoder = LabelEncoder()\n",
    "        for field in self.categorical_variables:\n",
    "            self.X[field] = label_encoder.fit_transform(self.X[field])\n",
    "\n",
    "    def add_flight_duration_column(self):\n",
    "        \"\"\"\n",
    "        Add Flight Duration Field\n",
    "        :return:\n",
    "        \"\"\"\n",
    "        self.X['flight_duration_hours'] = (self.X['Scheduled arrival time'] - self.X[\n",
    "            'Scheduled depature time']) / np.timedelta64(1, 'h')\n",
    "\n",
    "    def expand_datetime_fields(self):\n",
    "        \"\"\"\n",
    "        expands  date_time field into, year, month, day, day_of_week\n",
    "        :return:\n",
    "        \"\"\"\n",
    "        for field in self.date_time_fields:\n",
    "            prefix = field.split(\" \")[1]\n",
    "            self.X[f'{prefix}_year'] = self.X[field].dt.year\n",
    "            self.X[f'{prefix}_month'] = self.X[field].dt.month\n",
    "            self.X[f'{prefix}_day'] = self.X[field].dt.day\n",
    "            self.X[f'{prefix}_day_of_week'] = self.X[field].dt.weekday\n",
    "\n",
    "    def drop_date_time_fields(self, dataset):\n",
    "        for field in self.date_time_fields:\n",
    "            dataset.drop(field, inplace=True, axis=1)\n",
    "\n",
    "    def declare_datetime_fields(self):\n",
    "        \"\"\"\n",
    "        change datetime fields from string to datetime types\n",
    "        :return:\n",
    "        \"\"\"\n",
    "        for field in self.date_time_fields:\n",
    "            self.X[field] = to_datetime(self.X[field])\n",
    "\n",
    "    def split_dataset(self) -> tuple:\n",
    "        \"\"\"\n",
    "         overrides the base split_dataset method and Split to train_test based on\n",
    "         Scheduled departure time, train with year 2015-2017, test with 2018\n",
    "        :return:\n",
    "        \"\"\"\n",
    "        self.dataset = concat([self.X, self.Y], axis=1)\n",
    "        dataset_train = self.dataset.query('depature_year < 2018').copy(deep=False)\n",
    "        dataset_test = self.dataset.query('depature_year >= 2018').copy(deep=False)\n",
    "        self.drop_date_time_fields(dataset_train)\n",
    "        self.drop_date_time_fields(dataset_test)\n",
    "        X_train = dataset_train.iloc[:, :-1]\n",
    "        Y_train = dataset_train.iloc[:, -1]\n",
    "\n",
    "        X_test = dataset_test.iloc[:, :-1]\n",
    "        Y_test = dataset_test.iloc[:, -1]\n",
    "\n",
    "        return X_train, X_test, Y_train, Y_test\n",
    "\n",
    "    def visualize(self):\n",
    "        \"\"\"\n",
    "        Plots the flight duration x against y\n",
    "        :return:\n",
    "        \"\"\"\n",
    "        xlabel('Flight Duration(hours)', fontsize=18)\n",
    "        ylabel('Delay (minutes)', fontsize=16)\n",
    "        suptitle('Flight Delay Visualization')\n",
    "        plot(self.X_train['flight_duration_hours'], self.Y_train, marker='.')\n",
    "        show()\n",
    "\n",
    "    def train_model(self, model_class, *args, **kwargs):\n",
    "        \"\"\"\n",
    "        Takes a sci-kit learn model class and arguments and fits it on the train set\n",
    "        :param model_class:\n",
    "        :param args:\n",
    "        :param kwargs:\n",
    "        :return: Trained model\n",
    "        \"\"\"\n",
    "        model = model_class(*args, **kwargs)\n",
    "        model.fit(self.X_train, self.Y_train)\n",
    "        return model\n",
    "\n",
    "    def get_best_parameters(self, model_class, param_grid):\n",
    "        \"\"\"\n",
    "        Performs Cross Validation and returns a grid search result of best parameter\n",
    "        :param model_class:\n",
    "        :param param_grid:\n",
    "        :return:\n",
    "        \"\"\"\n",
    "        CV_rfc = GridSearchCV(estimator=model_class(), param_grid=param_grid, cv=10)\n",
    "        CV_rfc.fit(self.X_train, self.Y_train)\n",
    "        return CV_rfc.best_params_\n",
    "\n",
    "    def evaluate_model(self, trained_model, X_test=None, Y_test=None):\n",
    "        \"\"\"\n",
    "        Evaluates A trained model and measures its accuracy\n",
    "        :param trained_model:\n",
    "        :param X_test:\n",
    "        :param Y_test:\n",
    "        :return: Accuracy Measures\n",
    "        \"\"\"\n",
    "        X_test = self.X_test if X_test is None else X_test\n",
    "        Y_test = self.Y_test if Y_test is None else Y_test\n",
    "\n",
    "        predictions = trained_model.predict(X_test)\n",
    "        return {\n",
    "            'mean_absolute_error': mean_absolute_error(Y_test, predictions),\n",
    "            'mean_squared_error': mean_squared_error(Y_test, predictions),\n",
    "            'root_mean_squared_error': math.sqrt(mean_squared_error(Y_test, predictions)),\n",
    "            'r2_score': r2_score(Y_test, predictions),\n",
    "        }\n",
    "\n",
    "\n",
    "\n",
    "predictor = FlightDelayPredictor('./flight_delay.csv')\n"
   ]
  },
  {
   "cell_type": "markdown",
   "id": "37227701",
   "metadata": {},
   "source": [
    "### Visualize"
   ]
  },
  {
   "cell_type": "code",
   "execution_count": 2,
   "id": "07abe0ef",
   "metadata": {},
   "outputs": [
    {
     "data": {
      "image/png": "[encoded data removed]",
      "text/plain": [
       "<Figure size 432x288 with 1 Axes>"
      ]
     },
     "metadata": {
      "needs_background": "light"
     },
     "output_type": "display_data"
    }
   ],
   "source": [
    "predictor.visualize()"
   ]
  },
  {
   "cell_type": "markdown",
   "id": "91d871a1",
   "metadata": {},
   "source": [
    "### Remove Outliers"
   ]
  },
  {
   "cell_type": "code",
   "execution_count": 3,
   "id": "9f36a3a7",
   "metadata": {},
   "outputs": [],
   "source": [
    "predictor.remove_outliers()"
   ]
  },
  {
   "cell_type": "code",
   "execution_count": 4,
   "id": "6f02afc4",
   "metadata": {},
   "outputs": [
    {
     "data": {
      "image/png": "[encoded data removed]",
      "text/plain": [
       "<Figure size 432x288 with 1 Axes>"
      ]
     },
     "metadata": {
      "needs_background": "light"
     },
     "output_type": "display_data"
    }
   ],
   "source": [
    "predictor.visualize()"
   ]
  },
  {
   "cell_type": "markdown",
   "id": "3c101c59",
   "metadata": {},
   "source": [
    "### Import Models"
   ]
  },
  {
   "cell_type": "code",
   "execution_count": 5,
   "id": "5daf00e6",
   "metadata": {},
   "outputs": [],
   "source": [
    "from sklearn.ensemble import AdaBoostRegressor,GradientBoostingRegressor\n",
    "from sklearn.svm import SVR\n",
    "from sklearn.linear_model import LinearRegression, Lasso, Ridge, ElasticNet\n",
    "from sklearn.neural_network import MLPRegressor"
   ]
  },
  {
   "cell_type": "code",
   "execution_count": 7,
   "id": "e555f21a",
   "metadata": {},
   "outputs": [],
   "source": [
    "models_param_grid = [\n",
    "    (LinearRegression, {}),\n",
    "    (Lasso, {\"alpha\": [x * 0.1 for x in range(10, 50,10)]}),\n",
    "\n",
    "    (Ridge, {\"alpha\": [x * 0.1 for x in range(10, 50,10)]}),\n",
    "\n",
    "    (ElasticNet, {\"alpha\": [x * 0.1 for x in range(10, 100,10)], 'l1_ratio': [x * 0.1 for x in range(1, 10)], }),\n",
    "\n",
    "    (AdaBoostRegressor, {'n_estimators': [50, 100, 500], \"loss\": ['linear', 'square', 'exponential'], }),\n",
    "\n",
    "    (GradientBoostingRegressor,{'n_estimators': [50, 100, 200,]}),\n",
    "\n",
    "]\n"
   ]
  },
  {
   "cell_type": "markdown",
   "id": "6d715f27",
   "metadata": {},
   "source": [
    "### Cross Validate And Get Best Hyper Parameters"
   ]
  },
  {
   "cell_type": "code",
   "execution_count": 9,
   "id": "95f2a4a2",
   "metadata": {},
   "outputs": [
    {
     "data": {
      "text/plain": [
       "[{}, {}, {}, {}, {}, {}]"
      ]
     },
     "execution_count": 9,
     "metadata": {},
     "output_type": "execute_result"
    }
   ],
   "source": [
    "best_params = []\n",
    "for  model_class, parameter_grid in models_param_grid:\n",
    "    best_params.append(predictor.get_best_parameters(model_class, parameter_grid ))\n",
    "best_params"
   ]
  },
  {
   "cell_type": "code",
   "execution_count": 10,
   "id": "3a3f34a9",
   "metadata": {},
   "outputs": [],
   "source": [
    "models = [model for model,parameter_grid in models_param_grid]\n",
    "models_best_params = list(zip(models,best_params))"
   ]
  },
  {
   "cell_type": "markdown",
   "id": "fdf2104b",
   "metadata": {},
   "source": [
    "### Train Models"
   ]
  },
  {
   "cell_type": "code",
   "execution_count": 11,
   "id": "1cd7404b",
   "metadata": {},
   "outputs": [
    {
     "name": "stdout",
     "output_type": "stream",
     "text": [
      "Training <class 'sklearn.linear_model._base.LinearRegression'>\n",
      "Trained <class 'sklearn.linear_model._base.LinearRegression'>\n",
      "Training <class 'sklearn.linear_model._coordinate_descent.Lasso'>\n",
      "Trained <class 'sklearn.linear_model._coordinate_descent.Lasso'>\n",
      "Training <class 'sklearn.linear_model._ridge.Ridge'>\n",
      "Trained <class 'sklearn.linear_model._ridge.Ridge'>\n",
      "Training <class 'sklearn.linear_model._coordinate_descent.ElasticNet'>\n",
      "Trained <class 'sklearn.linear_model._coordinate_descent.ElasticNet'>\n",
      "Training <class 'sklearn.ensemble._weight_boosting.AdaBoostRegressor'>\n",
      "Trained <class 'sklearn.ensemble._weight_boosting.AdaBoostRegressor'>\n",
      "Training <class 'sklearn.ensemble._gb.GradientBoostingRegressor'>\n",
      "Trained <class 'sklearn.ensemble._gb.GradientBoostingRegressor'>\n"
     ]
    }
   ],
   "source": [
    "trained_models = []\n",
    "for model,best_params in models_best_params:\n",
    "    print(f\"Training {model}\")\n",
    "    trained_models.append(predictor.train_model(model,**best_params))\n",
    "    print(f\"Trained {model}\")\n",
    "  "
   ]
  },
  {
   "cell_type": "markdown",
   "id": "e6726383",
   "metadata": {},
   "source": [
    "## Evaluate with Training Set"
   ]
  },
  {
   "cell_type": "code",
   "execution_count": 14,
   "id": "dc845794",
   "metadata": {},
   "outputs": [
    {
     "data": {
      "text/html": [
       "<div>\n",
       "<style scoped>\n",
       "    .dataframe tbody tr th:only-of-type {\n",
       "        vertical-align: middle;\n",
       "    }\n",
       "\n",
       "    .dataframe tbody tr th {\n",
       "        vertical-align: top;\n",
       "    }\n",
       "\n",
       "    .dataframe thead th {\n",
       "        text-align: right;\n",
       "    }\n",
       "</style>\n",
       "<table border=\"1\" class=\"dataframe\">\n",
       "  <thead>\n",
       "    <tr style=\"text-align: right;\">\n",
       "      <th></th>\n",
       "      <th>model</th>\n",
       "      <th>mean_absolute_error</th>\n",
       "      <th>mean_squared_error</th>\n",
       "      <th>root_mean_squared_error</th>\n",
       "      <th>r2_score</th>\n",
       "    </tr>\n",
       "  </thead>\n",
       "  <tbody>\n",
       "    <tr>\n",
       "      <th>0</th>\n",
       "      <td>LinearRegression</td>\n",
       "      <td>15.464568</td>\n",
       "      <td>2163.760247</td>\n",
       "      <td>46.516236</td>\n",
       "      <td>0.004261</td>\n",
       "    </tr>\n",
       "    <tr>\n",
       "      <th>1</th>\n",
       "      <td>Lasso</td>\n",
       "      <td>15.505549</td>\n",
       "      <td>2166.233130</td>\n",
       "      <td>46.542810</td>\n",
       "      <td>0.003123</td>\n",
       "    </tr>\n",
       "    <tr>\n",
       "      <th>2</th>\n",
       "      <td>Ridge</td>\n",
       "      <td>15.467819</td>\n",
       "      <td>2164.337253</td>\n",
       "      <td>46.522438</td>\n",
       "      <td>0.003996</td>\n",
       "    </tr>\n",
       "    <tr>\n",
       "      <th>3</th>\n",
       "      <td>ElasticNet</td>\n",
       "      <td>15.499584</td>\n",
       "      <td>2165.951097</td>\n",
       "      <td>46.539780</td>\n",
       "      <td>0.003253</td>\n",
       "    </tr>\n",
       "    <tr>\n",
       "      <th>4</th>\n",
       "      <td>AdaBoostRegressor</td>\n",
       "      <td>40.206180</td>\n",
       "      <td>3638.746253</td>\n",
       "      <td>60.322021</td>\n",
       "      <td>-0.674511</td>\n",
       "    </tr>\n",
       "    <tr>\n",
       "      <th>5</th>\n",
       "      <td>GradientBoostingRegressor</td>\n",
       "      <td>15.086348</td>\n",
       "      <td>2123.097238</td>\n",
       "      <td>46.077079</td>\n",
       "      <td>0.022974</td>\n",
       "    </tr>\n",
       "  </tbody>\n",
       "</table>\n",
       "</div>"
      ],
      "text/plain": [
       "                       model  mean_absolute_error  mean_squared_error  \\\n",
       "0           LinearRegression            15.464568         2163.760247   \n",
       "1                      Lasso            15.505549         2166.233130   \n",
       "2                      Ridge            15.467819         2164.337253   \n",
       "3                 ElasticNet            15.499584         2165.951097   \n",
       "4          AdaBoostRegressor            40.206180         3638.746253   \n",
       "5  GradientBoostingRegressor            15.086348         2123.097238   \n",
       "\n",
       "   root_mean_squared_error  r2_score  \n",
       "0                46.516236  0.004261  \n",
       "1                46.542810  0.003123  \n",
       "2                46.522438  0.003996  \n",
       "3                46.539780  0.003253  \n",
       "4                60.322021 -0.674511  \n",
       "5                46.077079  0.022974  "
      ]
     },
     "execution_count": 14,
     "metadata": {},
     "output_type": "execute_result"
    }
   ],
   "source": [
    "training_evaluation = []\n",
    "for model in trained_models:\n",
    "    scores = predictor.evaluate_model(model,predictor.X_train,predictor.Y_train)\n",
    "    training_evaluation.append({\"model\":type(model).__name__,**scores})\n",
    "DataFrame(training_evaluation)    "
   ]
  },
  {
   "cell_type": "markdown",
   "id": "4484e424",
   "metadata": {},
   "source": [
    "## Evaluate with Test Set"
   ]
  },
  {
   "cell_type": "code",
   "execution_count": 15,
   "id": "6618da6b",
   "metadata": {},
   "outputs": [
    {
     "data": {
      "text/html": [
       "<div>\n",
       "<style scoped>\n",
       "    .dataframe tbody tr th:only-of-type {\n",
       "        vertical-align: middle;\n",
       "    }\n",
       "\n",
       "    .dataframe tbody tr th {\n",
       "        vertical-align: top;\n",
       "    }\n",
       "\n",
       "    .dataframe thead th {\n",
       "        text-align: right;\n",
       "    }\n",
       "</style>\n",
       "<table border=\"1\" class=\"dataframe\">\n",
       "  <thead>\n",
       "    <tr style=\"text-align: right;\">\n",
       "      <th></th>\n",
       "      <th>model</th>\n",
       "      <th>mean_absolute_error</th>\n",
       "      <th>mean_squared_error</th>\n",
       "      <th>root_mean_squared_error</th>\n",
       "      <th>r2_score</th>\n",
       "    </tr>\n",
       "  </thead>\n",
       "  <tbody>\n",
       "    <tr>\n",
       "      <th>0</th>\n",
       "      <td>LinearRegression</td>\n",
       "      <td>16.226042</td>\n",
       "      <td>1645.142699</td>\n",
       "      <td>40.560359</td>\n",
       "      <td>-0.026436</td>\n",
       "    </tr>\n",
       "    <tr>\n",
       "      <th>1</th>\n",
       "      <td>Lasso</td>\n",
       "      <td>14.413525</td>\n",
       "      <td>1617.204138</td>\n",
       "      <td>40.214477</td>\n",
       "      <td>-0.009005</td>\n",
       "    </tr>\n",
       "    <tr>\n",
       "      <th>2</th>\n",
       "      <td>Ridge</td>\n",
       "      <td>16.212315</td>\n",
       "      <td>1644.282827</td>\n",
       "      <td>40.549757</td>\n",
       "      <td>-0.025900</td>\n",
       "    </tr>\n",
       "    <tr>\n",
       "      <th>3</th>\n",
       "      <td>ElasticNet</td>\n",
       "      <td>14.464057</td>\n",
       "      <td>1618.206086</td>\n",
       "      <td>40.226932</td>\n",
       "      <td>-0.009630</td>\n",
       "    </tr>\n",
       "    <tr>\n",
       "      <th>4</th>\n",
       "      <td>AdaBoostRegressor</td>\n",
       "      <td>46.043944</td>\n",
       "      <td>3888.984535</td>\n",
       "      <td>62.361723</td>\n",
       "      <td>-1.426412</td>\n",
       "    </tr>\n",
       "    <tr>\n",
       "      <th>5</th>\n",
       "      <td>GradientBoostingRegressor</td>\n",
       "      <td>14.999207</td>\n",
       "      <td>1628.847301</td>\n",
       "      <td>40.358980</td>\n",
       "      <td>-0.016269</td>\n",
       "    </tr>\n",
       "  </tbody>\n",
       "</table>\n",
       "</div>"
      ],
      "text/plain": [
       "                       model  mean_absolute_error  mean_squared_error  \\\n",
       "0           LinearRegression            16.226042         1645.142699   \n",
       "1                      Lasso            14.413525         1617.204138   \n",
       "2                      Ridge            16.212315         1644.282827   \n",
       "3                 ElasticNet            14.464057         1618.206086   \n",
       "4          AdaBoostRegressor            46.043944         3888.984535   \n",
       "5  GradientBoostingRegressor            14.999207         1628.847301   \n",
       "\n",
       "   root_mean_squared_error  r2_score  \n",
       "0                40.560359 -0.026436  \n",
       "1                40.214477 -0.009005  \n",
       "2                40.549757 -0.025900  \n",
       "3                40.226932 -0.009630  \n",
       "4                62.361723 -1.426412  \n",
       "5                40.358980 -0.016269  "
      ]
     },
     "execution_count": 15,
     "metadata": {},
     "output_type": "execute_result"
    }
   ],
   "source": [
    "evaluation = []\n",
    "for model in trained_models:\n",
    "    scores = predictor.evaluate_model(model)\n",
    "    evaluation.append({\"model\":type(model).__name__,**scores})\n",
    "\n",
    "DataFrame(evaluation)  "
   ]
  },
  {
   "cell_type": "code",
   "execution_count": null,
   "id": "53601980",
   "metadata": {},
   "outputs": [],
   "source": []
  }
 ],
 "metadata": {
  "kernelspec": {
   "display_name": "Python 3 (ipykernel)",
   "language": "python",
   "name": "python3"
  },
  "language_info": {
   "codemirror_mode": {
    "name": "ipython",
    "version": 3
   },
   "file_extension": ".py",
   "mimetype": "text/x-python",
   "name": "python",
   "nbconvert_exporter": "python",
   "pygments_lexer": "ipython3",
   "version": "3.8.8"
  }
 },
 "nbformat": 4,
 "nbformat_minor": 5
}
